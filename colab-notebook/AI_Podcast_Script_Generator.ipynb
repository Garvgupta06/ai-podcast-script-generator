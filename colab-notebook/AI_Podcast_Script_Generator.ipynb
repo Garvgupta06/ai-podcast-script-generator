{
 "cells": [
  {
   "cell_type": "markdown",
   "id": "556298ce",
   "metadata": {},
   "source": [
    "# 🎙️ AI Podcast Script Generator\n",
    "\n",
    "Transform raw transcripts from speeches, news articles, or any text content into polished, professional podcast scripts with AI-powered enhancements.\n",
    "\n",
    "## Features\n",
    "- **Transcript Processing**: Clean and structure raw text\n",
    "- **AI Enhancement**: Use OpenAI/Claude to improve content quality\n",
    "- **Script Generation**: Create complete podcast scripts with intro/outro\n",
    "- **Show Notes**: Generate comprehensive episode notes\n",
    "- **Cloudflare Workers**: API integration for scalable processing\n",
    "\n",
    "---"
   ]
  },
  {
   "cell_type": "markdown",
   "id": "4020f359",
   "metadata": {},
   "source": [
    "## 📦 Install Required Dependencies\n",
    "\n",
    "First, let's install all the necessary packages for our AI podcast script generator."
   ]
  },
  {
   "cell_type": "code",
   "execution_count": null,
   "id": "aee77b37",
   "metadata": {},
   "outputs": [],
   "source": [
    "# Install required packages\n",
    "!pip install openai anthropic requests python-dotenv beautifulsoup4\n",
    "!pip install youtube-transcript-api feedparser PyPDF2\n",
    "!pip install ipywidgets\n",
    "\n",
    "# Mount Google Drive for file access\n",
    "from google.colab import drive\n",
    "drive.mount('/content/drive')\n",
    "\n",
    "print(\"✅ All packages installed successfully!\")"
   ]
  },
  {
   "cell_type": "markdown",
   "id": "40a6ef06",
   "metadata": {},
   "source": [
    "## 📁 Upload Project Files\n",
    "\n",
    "Upload the Python scripts from your project to Google Colab."
   ]
  },
  {
   "cell_type": "code",
   "execution_count": null,
   "id": "b447d5ac",
   "metadata": {},
   "outputs": [],
   "source": [
    "# Create project directory\n",
    "import os\n",
    "os.makedirs('/content/ai_podcast_script', exist_ok=True)\n",
    "os.makedirs('/content/ai_podcast_script/python-scripts', exist_ok=True)\n",
    "os.makedirs('/content/ai_podcast_script/config', exist_ok=True)\n",
    "\n",
    "# You can either:\n",
    "# 1. Upload files manually using the file browser on the left\n",
    "# 2. Clone from your GitHub repository (if available)\n",
    "# 3. Copy files from Google Drive\n",
    "\n",
    "print(\"📁 Project directories created. Please upload your Python files:\")\n",
    "print(\"- transcript_processor.py\")\n",
    "print(\"- llm_integration.py\")\n",
    "print(\"- script_generator.py\")\n",
    "print(\"- content_fetcher.py\")\n",
    "print(\"- config.py\")"
   ]
  },
  {
   "cell_type": "markdown",
   "id": "e879a3bd",
   "metadata": {},
   "source": [
    "## ⚙️ Set Up API Configuration\n",
    "\n",
    "Configure your API keys and settings. **Never commit real API keys to version control!**"
   ]
  },
  {
   "cell_type": "code",
   "execution_count": null,
   "id": "5c6c07f5",
   "metadata": {},
   "outputs": [],
   "source": [
    "import os\n",
    "from google.colab import userdata\n",
    "import json\n",
    "\n",
    "# Set up environment variables\n",
    "# You can set these in Colab Secrets (recommended) or enter them here temporarily\n",
    "\n",
    "try:\n",
    "    # Try to get from Colab Secrets first\n",
    "    OPENAI_API_KEY = userdata.get('OPENAI_API_KEY')\n",
    "    ANTHROPIC_API_KEY = userdata.get('ANTHROPIC_API_KEY')\n",
    "    CLOUDFLARE_WORKER_URL = userdata.get('CLOUDFLARE_WORKER_URL')\n",
    "except Exception as e:\n",
    "    print(\"⚠️ Colab Secrets not configured. Please set them manually:\")\n",
    "    \n",
    "    # Manual configuration (delete after use!)\n",
    "    OPENAI_API_KEY = \"\"  # Your OpenAI API key\n",
    "    ANTHROPIC_API_KEY = \"\"  # Your Anthropic API key\n",
    "    CLOUDFLARE_WORKER_URL = \"https://ai-podcast-script-api.your-domain.workers.dev\"  # Your worker URL\n",
    "\n",
    "# Set environment variables\n",
    "if OPENAI_API_KEY:\n",
    "    os.environ['OPENAI_API_KEY'] = OPENAI_API_KEY\n",
    "    print(\"✅ OpenAI API key configured\")\n",
    "\n",
    "if ANTHROPIC_API_KEY:\n",
    "    os.environ['ANTHROPIC_API_KEY'] = ANTHROPIC_API_KEY\n",
    "    print(\"✅ Anthropic API key configured\")\n",
    "\n",
    "if CLOUDFLARE_WORKER_URL:\n",
    "    os.environ['CLOUDFLARE_WORKER_URL'] = CLOUDFLARE_WORKER_URL\n",
    "    print(\"✅ Cloudflare Worker URL configured\")\n",
    "\n",
    "# Default podcast configuration\n",
    "PODCAST_CONFIG = {\n",
    "    'show_name': 'AI Insights Podcast',\n",
    "    'host_name': 'Your Host Name',\n",
    "    'tagline': 'Exploring the future of artificial intelligence',\n",
    "    'intro_music_duration': 10,\n",
    "    'outro_music_duration': 15\n",
    "}\n",
    "\n",
    "print(\"\\n🎙️ Podcast Configuration:\")\n",
    "for key, value in PODCAST_CONFIG.items():\n",
    "    print(f\"  {key}: {value}\")"
   ]
  },
  {
   "cell_type": "markdown",
   "id": "f5579331",
   "metadata": {},
   "source": [
    "## 📥 Import Project Modules\n",
    "\n",
    "Import all our custom modules for podcast script generation."
   ]
  },
  {
   "cell_type": "code",
   "execution_count": null,
   "id": "7ee3d74b",
   "metadata": {},
   "outputs": [],
   "source": [
    "import sys\n",
    "sys.path.append('/content/ai_podcast_script/python-scripts')\n",
    "sys.path.append('/content/ai_podcast_script/config')\n",
    "\n",
    "# Import our custom modules\n",
    "try:\n",
    "    from transcript_processor import TranscriptProcessor\n",
    "    print(\"✅ TranscriptProcessor imported\")\n",
    "except ImportError as e:\n",
    "    print(f\"❌ Failed to import TranscriptProcessor: {e}\")\n",
    "\n",
    "try:\n",
    "    from llm_integration import LLMIntegration\n",
    "    print(\"✅ LLMIntegration imported\")\n",
    "except ImportError as e:\n",
    "    print(f\"❌ Failed to import LLMIntegration: {e}\")\n",
    "\n",
    "try:\n",
    "    from script_generator import PodcastScriptGenerator\n",
    "    print(\"✅ PodcastScriptGenerator imported\")\n",
    "except ImportError as e:\n",
    "    print(f\"❌ Failed to import PodcastScriptGenerator: {e}\")\n",
    "\n",
    "try:\n",
    "    from content_fetcher import ContentFetcher\n",
    "    print(\"✅ ContentFetcher imported\")\n",
    "except ImportError as e:\n",
    "    print(f\"❌ Failed to import ContentFetcher: {e}\")\n",
    "\n",
    "# Import standard libraries\n",
    "import requests\n",
    "import json\n",
    "from datetime import datetime\n",
    "import ipywidgets as widgets\n",
    "from IPython.display import display, HTML, Markdown\n",
    "\n",
    "print(\"\\n🚀 All modules ready for use!\")"
   ]
  },
  {
   "cell_type": "markdown",
   "id": "d7a69cd8",
   "metadata": {},
   "source": []
  }
 ],
 "metadata": {
  "language_info": {
   "name": "python"
  }
 },
 "nbformat": 4,
 "nbformat_minor": 5
}
